{
 "cells": [
  {
   "cell_type": "code",
   "execution_count": 2,
   "id": "dec6a8e9-4ebd-4571-92e9-59973911167c",
   "metadata": {
    "tags": []
   },
   "outputs": [
    {
     "data": {
      "image/png": "[encoded data removed]",
      "text/plain": [
       "<Figure size 432x288 with 1 Axes>"
      ]
     },
     "metadata": {
      "needs_background": "light"
     },
     "output_type": "display_data"
    }
   ],
   "source": [
    "import numpy as np\n",
    "from sklearn.cluster import DBSCAN\n",
    "import matplotlib.pyplot as plt\n",
    "\n",
    "# Veri seti\n",
    "data = np.array([[2, 3],\n",
    "                 [3, 3],\n",
    "                 [3, 4],\n",
    "                 [5, 6],\n",
    "                 [6, 5],\n",
    "                 [6, 6],\n",
    "                 [7, 6],\n",
    "                 [8, 7]])\n",
    "\n",
    "# DBSCAN uygulama\n",
    "dbscan = DBSCAN(eps=1.5, min_samples=2)\n",
    "clusters = dbscan.fit_predict(data)\n",
    "\n",
    "# Sonuçların görselleştirilmesi\n",
    "plt.scatter(data[:, 0], data[:, 1], c=clusters, cmap='rainbow', marker='o', edgecolors='k')\n",
    "plt.xlabel('x1')\n",
    "plt.ylabel('x2')\n",
    "plt.title('DBSCAN Sonuçları')\n",
    "plt.grid(True)\n",
    "plt.show()\n"
   ]
  },
  {
   "cell_type": "code",
   "execution_count": null,
   "id": "18a37b65-c727-4f64-9a26-20ad47a75062",
   "metadata": {},
   "outputs": [],
   "source": []
  }
 ],
 "metadata": {
  "kernelspec": {
   "display_name": "Python 3 (ipykernel)",
   "language": "python",
   "name": "python3"
  },
  "language_info": {
   "codemirror_mode": {
    "name": "ipython",
    "version": 3
   },
   "file_extension": ".py",
   "mimetype": "text/x-python",
   "name": "python",
   "nbconvert_exporter": "python",
   "pygments_lexer": "ipython3",
   "version": "3.10.12"
  }
 },
 "nbformat": 4,
 "nbformat_minor": 5
}
