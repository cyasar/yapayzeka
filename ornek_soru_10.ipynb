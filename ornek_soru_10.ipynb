{
 "cells": [
  {
   "cell_type": "code",
   "execution_count": 1,
   "id": "2dcd57f9-dd40-4417-bdc6-117c96b300cf",
   "metadata": {
    "tags": []
   },
   "outputs": [
    {
     "data": {
      "image/png": "[encoded data removed]",
      "text/plain": [
       "<Figure size 432x288 with 1 Axes>"
      ]
     },
     "metadata": {
      "needs_background": "light"
     },
     "output_type": "display_data"
    }
   ],
   "source": [
    "import numpy as np\n",
    "from sklearn.decomposition import PCA\n",
    "from sklearn.cluster import KMeans\n",
    "import matplotlib.pyplot as plt\n",
    "\n",
    "# Örnek veri seti\n",
    "'''\n",
    "Bir araştırma şirketi, şehirlerin yaşam kalitesi üzerine bir anket yapmıştır. \n",
    "Ankette, eğitim, sağlık, ulaşım, güvenlik ve eğlence gibi farklı kategorilerde puanlar toplanmıştır. \n",
    "Şirket, bu verilere dayanarak benzer özelliklere sahip şehirleri gruplamak istiyor.\n",
    "'''\n",
    "\n",
    "data = {\n",
    "    'Şehir': ['A', 'B', 'C', 'D', 'E'],\n",
    "    'Eğitim': [85, 88, 60, 58, 90],\n",
    "    'Sağlık': [90, 92, 65, 63, 85],\n",
    "    'Ulaşım': [70, 68, 80, 78, 88],\n",
    "    'Güvenlik': [80, 82, 70, 68, 90],\n",
    "    'Eğlence': [75, 78, 85, 87, 80]\n",
    "}\n",
    "\n",
    "# Veriyi bir numpy dizisine dönüştürme\n",
    "X = np.array([data['Eğitim'], data['Sağlık'], data['Ulaşım'], data['Güvenlik'], data['Eğlence']]).T\n",
    "\n",
    "# PCA ile boyut indirgeme\n",
    "pca = PCA(n_components=2)\n",
    "X_pca = pca.fit_transform(X)\n",
    "\n",
    "# KMeans ile kümeleme\n",
    "#kmeans = KMeans(n_clusters=2)\n",
    "kmeans = KMeans(n_clusters=2, n_init=10)\n",
    "\n",
    "clusters = kmeans.fit_predict(X_pca)\n",
    "\n",
    "# Sonuçları görselleştirme\n",
    "plt.scatter(X_pca[:, 0], X_pca[:, 1], c=clusters, cmap='rainbow')\n",
    "plt.xlabel('Birinci Ana Bileşen')\n",
    "plt.ylabel('İkinci Ana Bileşen')\n",
    "plt.title('PCA ve K-Means ile Kümeleme')\n",
    "for i, city in enumerate(data['Şehir']):\n",
    "    plt.annotate(city, (X_pca[i, 0], X_pca[i, 1]))\n",
    "plt.show()\n"
   ]
  },
  {
   "cell_type": "code",
   "execution_count": 1,
   "id": "4ef4a66d-959f-4383-afc1-ba6ff298abed",
   "metadata": {
    "tags": []
   },
   "outputs": [
    {
     "data": {
      "image/png": "[encoded data removed]",
      "text/plain": [
       "<Figure size 432x288 with 1 Axes>"
      ]
     },
     "metadata": {
      "needs_background": "light"
     },
     "output_type": "display_data"
    }
   ],
   "source": [
    "import numpy as np\n",
    "from sklearn.decomposition import PCA\n",
    "from sklearn.cluster import KMeans\n",
    "import matplotlib.pyplot as plt\n",
    "\n",
    "# Örnek veri seti\n",
    "'''\n",
    "Bir araştırma şirketi, şehirlerin yaşam kalitesi üzerine bir anket yapmıştır. \n",
    "Ankette, eğitim, sağlık, ulaşım, güvenlik ve eğlence gibi farklı kategorilerde puanlar toplanmıştır. \n",
    "Şirket, bu verilere dayanarak benzer özelliklere sahip şehirleri gruplamak istiyor.\n",
    "'''\n",
    "\n",
    "data = {\n",
    "    'Şehir': ['A', 'B', 'C', 'D', 'E'],\n",
    "    'Eğitim': [85, 88, 60, 58, 90],\n",
    "    'Sağlık': [90, 92, 65, 63, 85],\n",
    "    'Ulaşım': [70, 68, 80, 78, 88],\n",
    "    'Güvenlik': [80, 82, 70, 68, 90],\n",
    "    'Eğlence': [75, 78, 85, 87, 80]\n",
    "}\n",
    "\n",
    "# Veriyi bir numpy dizisine dönüştürme\n",
    "X = np.array([data['Eğitim'], data['Sağlık'], data['Ulaşım'], data['Güvenlik'], data['Eğlence']]).T\n",
    "\n",
    "# PCA ile boyut indirgeme\n",
    "pca = PCA(n_components=2)\n",
    "X_pca = pca.fit_transform(X)\n",
    "\n",
    "# KMeans ile kümeleme\n",
    "#kmeans = KMeans(n_clusters=2)\n",
    "kmeans = KMeans(n_clusters=2, n_init=10)\n",
    "\n",
    "clusters = kmeans.fit_predict(X_pca)\n",
    "\n",
    "# Sonuçları görselleştirme\n",
    "plt.scatter(X_pca[:, 0], X_pca[:, 1], c=clusters, cmap='rainbow')\n",
    "plt.xlabel('Birinci Ana Bileşen')\n",
    "plt.ylabel('İkinci Ana Bileşen')\n",
    "plt.title('PCA ve K-Means ile Kümeleme')\n",
    "for i, city in enumerate(data['Şehir']):\n",
    "    plt.annotate(city, (X_pca[i, 0], X_pca[i, 1]))\n",
    "plt.show()\n"
   ]
  },
  {
   "cell_type": "code",
   "execution_count": null,
   "id": "0db71047-09c3-4295-b3ac-525a0af14f4b",
   "metadata": {},
   "outputs": [],
   "source": []
  }
 ],
 "metadata": {
  "kernelspec": {
   "display_name": "Python 3 (ipykernel)",
   "language": "python",
   "name": "python3"
  },
  "language_info": {
   "codemirror_mode": {
    "name": "ipython",
    "version": 3
   },
   "file_extension": ".py",
   "mimetype": "text/x-python",
   "name": "python",
   "nbconvert_exporter": "python",
   "pygments_lexer": "ipython3",
   "version": "3.10.12"
  }
 },
 "nbformat": 4,
 "nbformat_minor": 5
}
