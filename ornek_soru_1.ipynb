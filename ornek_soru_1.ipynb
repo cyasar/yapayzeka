{
 "cells": [
  {
   "cell_type": "code",
   "execution_count": 1,
   "id": "2b3e7b9c-2b43-452d-9e10-8b6ac25ae2d6",
   "metadata": {
    "tags": []
   },
   "outputs": [
    {
     "name": "stdout",
     "output_type": "stream",
     "text": [
      "Test A sonucunda pozitif sonuç alındığında gerçekten grip olma olasılığı: 40.00%\n"
     ]
    }
   ],
   "source": [
    "# Parametreler\n",
    "p_A = 0.02  # Gerçekten grip olma olasılığı\n",
    "p_B_given_A = 0.98  # Gerçekten grip olan bir kişinin Test A ile pozitif sonuç alması\n",
    "p_not_A = 1 - p_A  # Grip olmama olasılığı\n",
    "p_B_given_not_A = 1 - 0.97  # Grip olmayan bir kişinin Test A ile pozitif sonuç alması (yanlış pozitif oranı)\n",
    "\n",
    "# Test A'nın pozitif sonuç verme olasılığı\n",
    "p_B = p_B_given_A * p_A + p_B_given_not_A * p_not_A\n",
    "\n",
    "# Bayes Teoremi ile gerçekten grip olma olasılığı\n",
    "p_A_given_B = (p_B_given_A * p_A) / p_B\n",
    "\n",
    "print(f\"Test A sonucunda pozitif sonuç alındığında gerçekten grip olma olasılığı: {p_A_given_B * 100:.2f}%\")\n"
   ]
  },
  {
   "cell_type": "code",
   "execution_count": null,
   "id": "6b373fc2-656b-469a-bb19-b57da796ca6e",
   "metadata": {},
   "outputs": [],
   "source": []
  }
 ],
 "metadata": {
  "kernelspec": {
   "display_name": "Python 3 (ipykernel)",
   "language": "python",
   "name": "python3"
  },
  "language_info": {
   "codemirror_mode": {
    "name": "ipython",
    "version": 3
   },
   "file_extension": ".py",
   "mimetype": "text/x-python",
   "name": "python",
   "nbconvert_exporter": "python",
   "pygments_lexer": "ipython3",
   "version": "3.10.12"
  }
 },
 "nbformat": 4,
 "nbformat_minor": 5
}
