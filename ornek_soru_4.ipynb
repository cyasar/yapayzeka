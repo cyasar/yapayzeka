{
 "cells": [
  {
   "cell_type": "code",
   "execution_count": 3,
   "id": "e0c34219-6ba6-4e81-9d0c-966a0b4b72b4",
   "metadata": {
    "tags": []
   },
   "outputs": [
    {
     "name": "stdout",
     "output_type": "stream",
     "text": [
      "Model Doğruluğu: 0.30\n",
      "Öğrenci reddedildi!\n"
     ]
    }
   ],
   "source": [
    "import numpy as np\n",
    "import pandas as pd\n",
    "from sklearn import svm\n",
    "from sklearn.model_selection import train_test_split\n",
    "from sklearn.preprocessing import StandardScaler\n",
    "from sklearn.metrics import accuracy_score\n",
    "\n",
    "# Rastgele veri oluşturma\n",
    "np.random.seed(0)\n",
    "TOEFL_scores = np.random.randint(80, 120, 100)\n",
    "SAT_scores = np.random.randint(1000, 1600, 100)\n",
    "\n",
    "# 100 öğrencinin yarısını kabul edelim ve yarısını reddedelim (basitlik için)\n",
    "labels = [1 if i < 50 else 0 for i in range(100)]\n",
    "\n",
    "data = pd.DataFrame({\n",
    "    'TOEFL': TOEFL_scores,\n",
    "    'SAT': SAT_scores,\n",
    "    'Kabul': labels\n",
    "})\n",
    "\n",
    "# Veriyi özellik ve etiketlere ayırma\n",
    "X = data[['TOEFL', 'SAT']].values  # .values ekledik\n",
    "y = data['Kabul'].values  # .values ekledik\n",
    "\n",
    "# Veriyi eğitim ve test setlerine ayırma\n",
    "X_train, X_test, y_train, y_test = train_test_split(X, y, test_size=0.2, random_state=42)\n",
    "\n",
    "# Özelliklerin ölçeklendirilmesi\n",
    "scaler = StandardScaler()\n",
    "X_train = scaler.fit_transform(X_train)\n",
    "X_test = scaler.transform(X_test)\n",
    "\n",
    "# SVM modeli oluşturma\n",
    "clf = svm.SVC(kernel='linear')\n",
    "clf.fit(X_train, y_train)\n",
    "\n",
    "# Modelin doğruluğunu kontrol etme\n",
    "y_pred = clf.predict(X_test)\n",
    "accuracy = accuracy_score(y_test, y_pred)\n",
    "print(f\"Model Doğruluğu: {accuracy:.2f}\")\n",
    "\n",
    "# Örnek bir öğrenci için tahmin\n",
    "sample_student = np.array([[105, 1400]])  # TOEFL: 105, SAT: 1400\n",
    "sample_student = scaler.transform(sample_student)\n",
    "prediction = clf.predict(sample_student)\n",
    "\n",
    "if prediction[0] == 1:\n",
    "    print(\"Öğrenci kabul edildi!\")\n",
    "else:\n",
    "    print(\"Öğrenci reddedildi!\")\n"
   ]
  },
  {
   "cell_type": "code",
   "execution_count": null,
   "id": "fb622e07-13de-4432-99e5-7c68d6685b99",
   "metadata": {},
   "outputs": [],
   "source": []
  }
 ],
 "metadata": {
  "kernelspec": {
   "display_name": "Python 3 (ipykernel)",
   "language": "python",
   "name": "python3"
  },
  "language_info": {
   "codemirror_mode": {
    "name": "ipython",
    "version": 3
   },
   "file_extension": ".py",
   "mimetype": "text/x-python",
   "name": "python",
   "nbconvert_exporter": "python",
   "pygments_lexer": "ipython3",
   "version": "3.10.12"
  }
 },
 "nbformat": 4,
 "nbformat_minor": 5
}
