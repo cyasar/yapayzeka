{
 "cells": [
  {
   "cell_type": "code",
   "execution_count": 1,
   "id": "0d645a37-ee22-4d62-928d-6e78895f80a7",
   "metadata": {
    "tags": []
   },
   "outputs": [
    {
     "name": "stdout",
     "output_type": "stream",
     "text": [
      "Katsayılar (Beta değerleri): [0.03973941 1.21824104]\n",
      "Kesme Noktası (Intercept): -2.267100977198697\n",
      "Tahmin edilen kalış süreleri: [5.01628664 6.83061889 8.247557   9.86319218 9.04234528]\n"
     ]
    }
   ],
   "source": [
    "import numpy as np\n",
    "from sklearn.linear_model import LinearRegression\n",
    "\n",
    "# Veri\n",
    "x_1 = [30, 45, 50, 60, 70]\n",
    "x_2 = [5, 6, 7, 8, 7]\n",
    "y = [5, 7, 8, 10, 9]\n",
    "\n",
    "# Veriyi uygun formata dönüştürme\n",
    "X = np.column_stack((x_1, x_2))\n",
    "\n",
    "# Lineer regresyon modelini eğitme\n",
    "model = LinearRegression().fit(X, y)\n",
    "\n",
    "# Katsayıları ve kesme noktasını yazdırma\n",
    "print(\"Katsayılar (Beta değerleri):\", model.coef_)\n",
    "print(\"Kesme Noktası (Intercept):\", model.intercept_)\n",
    "\n",
    "# Tahmin yapma\n",
    "predicted_y = model.predict(X)\n",
    "print(\"Tahmin edilen kalış süreleri:\", predicted_y)\n"
   ]
  },
  {
   "cell_type": "code",
   "execution_count": null,
   "id": "7812d938-866c-47a7-896e-a89cbb057ff9",
   "metadata": {},
   "outputs": [],
   "source": []
  }
 ],
 "metadata": {
  "kernelspec": {
   "display_name": "Python 3 (ipykernel)",
   "language": "python",
   "name": "python3"
  },
  "language_info": {
   "codemirror_mode": {
    "name": "ipython",
    "version": 3
   },
   "file_extension": ".py",
   "mimetype": "text/x-python",
   "name": "python",
   "nbconvert_exporter": "python",
   "pygments_lexer": "ipython3",
   "version": "3.10.12"
  }
 },
 "nbformat": 4,
 "nbformat_minor": 5
}
